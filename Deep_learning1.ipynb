{
  "nbformat": 4,
  "nbformat_minor": 0,
  "metadata": {
    "colab": {
      "name": "Deep_learning1.ipynb",
      "provenance": [],
      "collapsed_sections": []
    },
    "kernelspec": {
      "name": "python3",
      "display_name": "Python 3"
    },
    "language_info": {
      "name": "python"
    }
  },
  "cells": [
    {
      "cell_type": "markdown",
      "metadata": {
        "id": "GRf4EBmEvId4"
      },
      "source": [
        "Potrzebne importy"
      ]
    },
    {
      "cell_type": "code",
      "metadata": {
        "id": "5QUGgAJIsK1u"
      },
      "source": [
        "import cv2\n",
        "import numpy as np\n",
        "import matplotlib.pyplot as plt\n",
        "import keras\n",
        "\n",
        "from keras import models\n",
        "from keras import layers\n",
        "from keras.datasets import mnist\n",
        "from keras.utils import to_categorical\n",
        "from sklearn.ensemble import RandomForestClassifier\n",
        "from sklearn.metrics import classification_report, confusion_matrix, accuracy_score\n",
        "from sklearn.svm import SVC\n",
        "from sklearn.model_selection import GridSearchCV, StratifiedKFold\n",
        "from keras.wrappers.scikit_learn import KerasClassifier\n"
      ],
      "execution_count": null,
      "outputs": []
    },
    {
      "cell_type": "markdown",
      "metadata": {
        "id": "sB21rglDwx2T"
      },
      "source": [
        "Powtórzyć trening klasycznych klasyfikatorów i sieci dla danych bez wyrównania (dst)"
      ]
    },
    {
      "cell_type": "code",
      "metadata": {
        "id": "B5M7U1n-w8hC"
      },
      "source": [
        "SZ=28\n",
        "affine_flags = cv2.WARP_INVERSE_MAP|cv2.INTER_LINEAR"
      ],
      "execution_count": null,
      "outputs": []
    },
    {
      "cell_type": "markdown",
      "metadata": {
        "id": "zIjdUVYLxQ0y"
      },
      "source": [
        "Deskew"
      ]
    },
    {
      "cell_type": "code",
      "metadata": {
        "id": "XQMB3GZAxTUs"
      },
      "source": [
        "def deskew(img):\n",
        "    m = cv2.moments(img)\n",
        "    if abs(m['mu02']) < 1e-2:\n",
        "        return img.copy()\n",
        "    skew = m['mu11']/m['mu02']\n",
        "    M = np.float32([[1, skew, -0.5*SZ*skew], [0, 1, 0]])\n",
        "    img = cv2.warpAffine(img,M,(SZ, SZ),flags=affine_flags)\n",
        "    return img"
      ],
      "execution_count": null,
      "outputs": []
    },
    {
      "cell_type": "code",
      "metadata": {
        "id": "NEQdlue5xpOv"
      },
      "source": [
        "def showOpencvImage(image, isGray=False):\n",
        "    fig = plt.figure(figsize=(6, 6))\n",
        "    plt.imshow(image, cmap = 'gray')\n",
        "    plt.show()\n",
        "\n",
        "\n",
        "def openCVHOG(im):\n",
        "    winSize = (20,20)\n",
        "    blockSize = (10,10)\n",
        "    blockStride = (5,5)\n",
        "    cellSize = (10,10)\n",
        "    nbins = 9\n",
        "    derivAperture = 1\n",
        "    winSigma = -1.\n",
        "    histogramNormType = 0\n",
        "    L2HysThreshold = 0.2\n",
        "    gammaCorrection = 1\n",
        "    nlevels = 64\n",
        "    signedGradients = True\n",
        "\n",
        "    hog = cv2.HOGDescriptor(winSize,blockSize,blockStride,cellSize,nbins,derivAperture,winSigma,histogramNormType,L2HysThreshold,gammaCorrection,nlevels, signedGradients)\n",
        "    descriptor = np.ravel(hog.compute(im))\n",
        "    \n",
        "    return descriptor"
      ],
      "execution_count": null,
      "outputs": []
    },
    {
      "cell_type": "code",
      "metadata": {
        "id": "WQnnjw2qmVvr"
      },
      "source": [
        "def create_model():\n",
        "      model = models.Sequential()\n",
        "      model.add(layers.Dense(512, activation='relu')) \n",
        "      model.add(layers.Dense(10, activation='softmax'))      \n",
        "      model.compile(optimizer='rmsprop',\n",
        "                      loss='categorical_crossentropy',\n",
        "                      metrics=['accuracy'])\n",
        "      return model"
      ],
      "execution_count": null,
      "outputs": []
    },
    {
      "cell_type": "markdown",
      "metadata": {
        "id": "0_4QD8vExxYe"
      },
      "source": [
        "Podział zbioru"
      ]
    },
    {
      "cell_type": "code",
      "metadata": {
        "id": "B4D5rMgaxzEE"
      },
      "source": [
        "(train_images, train_labels), (test_images, test_labels) = mnist.load_data()"
      ],
      "execution_count": null,
      "outputs": []
    },
    {
      "cell_type": "markdown",
      "metadata": {
        "id": "Yf-XDqulGA9X"
      },
      "source": [
        "Przygotowanie danych wejsciowych"
      ]
    },
    {
      "cell_type": "code",
      "metadata": {
        "id": "Vrjtt4x_GGa3"
      },
      "source": [
        "# dane surowe\n",
        "train_raw_data = train_images.reshape(len(train_images), 28 * 28)\n",
        "test_raw_data = test_images.reshape(len(test_images), 28 * 28)\n",
        "\n",
        "#hogdata bez wyrownania\n",
        "\n",
        "hogdata_train = np.float32([openCVHOG(im) for im in train_images]).reshape(-1,81)\n",
        "hogdata_test = np.float32([openCVHOG(im) for im in test_images]).reshape(-1,81)\n",
        "\n",
        "#hogdata po wyrownaniu\n",
        "hogdata_train_deskewed = np.float32([openCVHOG(deskew(im)) for im in train_images]).reshape(-1,81)\n",
        "hogdata_test_deskewed = np.float32([openCVHOG(deskew(im)) for im in test_images]).reshape(-1,81)"
      ],
      "execution_count": null,
      "outputs": []
    },
    {
      "cell_type": "code",
      "metadata": {
        "id": "IEhuXOtuJoC9"
      },
      "source": [
        "#wyciecie etykiet\n",
        "train_labels_short = train_labels[0:600]\n",
        "test_labels_short=test_labels[600:1000]\n",
        "\n",
        "\n",
        "#dla sieci neuronowych\n",
        "encoded_train_labels_short = to_categorical(train_labels_short)\n",
        "encoded_test_labels_short = to_categorical(test_labels_short)"
      ],
      "execution_count": null,
      "outputs": []
    },
    {
      "cell_type": "code",
      "metadata": {
        "id": "3MGnKdA-JFfs"
      },
      "source": [
        "#wyciecie danych\n",
        "\n",
        "#dane bez wyrówania\n",
        "hogdata_train_short=hogdata_train[:600,]\n",
        "hogdata_test_short=hogdata_test[600:1000,:]\n",
        "\n",
        "#dane z wyrównaniem\n",
        "deskewed_hogdata_train_short=hogdata_train_deskewed[:600,]\n",
        "deskewed_hogdata_test_short=hogdata_test_deskewed[600:1000,:]\n",
        "\n",
        "#dane surowe\n",
        "train_raw_data_short=train_raw_data[:600,]\n",
        "test_raw_data_short=test_raw_data[600:1000,:]\n"
      ],
      "execution_count": null,
      "outputs": []
    },
    {
      "cell_type": "code",
      "metadata": {
        "id": "8psjJlZ7a0Xn"
      },
      "source": [
        "#dane surowe zmieszane\n",
        "permute_train_raw_data = np.random.permutation(train_raw_data)\n",
        "permute_test_raw_data =np.random.permutation(test_raw_data)\n",
        "\n",
        "permute_train_raw_data_short=permute_train_raw_data[:600,]\n",
        "permute_test_raw_data_short=permute_test_raw_data[600:1000,:]"
      ],
      "execution_count": null,
      "outputs": []
    },
    {
      "cell_type": "markdown",
      "metadata": {
        "id": "-CbtDEtaikDe"
      },
      "source": [
        "# SVM"
      ]
    },
    {
      "cell_type": "markdown",
      "metadata": {
        "id": "VfxRzTaRH-gK"
      },
      "source": [
        "Model SVM dla:\n",
        "\n",
        "- danych bez wyrówania\n",
        "- danych z wyrównaniem\n",
        "- danych surowych"
      ]
    },
    {
      "cell_type": "markdown",
      "metadata": {
        "id": "0QPBSCDLNL95"
      },
      "source": [
        "Dla danych bez wyrównania:"
      ]
    },
    {
      "cell_type": "code",
      "metadata": {
        "colab": {
          "base_uri": "https://localhost:8080/"
        },
        "id": "o8W0RFJ1NLAz",
        "outputId": "47ae802e-197e-4c30-8bd1-a2fc21fb1ee2"
      },
      "source": [
        "parameters = {'kernel':('linear', 'rbf'), 'C': np.linspace(start = 0.001, stop = 2, num = 200)}\n",
        "svc = SVC()\n",
        "model_svc = GridSearchCV(svc, parameters, scoring='accuracy', cv=StratifiedKFold())\n",
        "model_svc.fit(hogdata_train_short,train_labels_short)\n",
        "params = model_svc.best_params_\n",
        "my_svc = model_svc.best_estimator_\n",
        "print(\"Wybrane parametry: \", params)\n",
        "print(\"Wybrany estymator: \", my_svc)\n",
        "\n",
        "pred_labels_svc = model_svc.predict(hogdata_test_short)\n",
        "mask = pred_labels_svc==test_labels_short\n"
      ],
      "execution_count": null,
      "outputs": [
        {
          "output_type": "stream",
          "text": [
            "Wybrane parametry:  {'C': 0.864889447236181, 'kernel': 'linear'}\n",
            "Wybrany estymator:  SVC(C=0.864889447236181, break_ties=False, cache_size=200, class_weight=None,\n",
            "    coef0=0.0, decision_function_shape='ovr', degree=3, gamma='scale',\n",
            "    kernel='linear', max_iter=-1, probability=False, random_state=None,\n",
            "    shrinking=True, tol=0.001, verbose=False)\n"
          ],
          "name": "stdout"
        }
      ]
    },
    {
      "cell_type": "markdown",
      "metadata": {
        "id": "pRrz9lF_PAgS"
      },
      "source": [
        "Raport:"
      ]
    },
    {
      "cell_type": "code",
      "metadata": {
        "colab": {
          "base_uri": "https://localhost:8080/"
        },
        "id": "abz6FAwbPEuh",
        "outputId": "1bfb8318-f799-4985-f274-da524bb0e298"
      },
      "source": [
        "print(\"Accuracy dla SVC bez wyrowania: \", accuracy_score(test_labels_short, pred_labels_svc))\n",
        "print(\"Confusion matrix dla SVC (dane bez wyrownania): \\n\")\n",
        "print(confusion_matrix(test_labels_short, pred_labels_svc))\n",
        "print(\"Classification report dlaSVC (dane bez wyrowanania): \")\n",
        "print(classification_report(test_labels_short, pred_labels_svc))"
      ],
      "execution_count": null,
      "outputs": [
        {
          "output_type": "stream",
          "text": [
            "Accuracy dla SVC bez wyrowania:  0.89\n",
            "Confusion matrix dla SVC (dane bez wyrownania): \n",
            "\n",
            "[[31  0  0  0  0  1  0  0  0  0]\n",
            " [ 0 53  0  0  0  0  0  0  0  0]\n",
            " [ 0  1 44  0  0  0  0  5  1  1]\n",
            " [ 0  0  2 41  0  2  0  0  0  0]\n",
            " [ 0  0  0  0 41  0  0  0  0  2]\n",
            " [ 0  1  0  0  0 27  0  0  1  2]\n",
            " [ 0  0  0  0  0  0 35  0  0  0]\n",
            " [ 0  0  5  4  0  1  0 31  0  1]\n",
            " [ 1  0  1  1  0  2  1  2 24  5]\n",
            " [ 0  0  1  0  0  0  0  0  0 29]]\n",
            "Classification report dlaSVC (dane bez wyrowanania): \n",
            "              precision    recall  f1-score   support\n",
            "\n",
            "           0       0.97      0.97      0.97        32\n",
            "           1       0.96      1.00      0.98        53\n",
            "           2       0.83      0.85      0.84        52\n",
            "           3       0.89      0.91      0.90        45\n",
            "           4       1.00      0.95      0.98        43\n",
            "           5       0.82      0.87      0.84        31\n",
            "           6       0.97      1.00      0.99        35\n",
            "           7       0.82      0.74      0.78        42\n",
            "           8       0.92      0.65      0.76        37\n",
            "           9       0.72      0.97      0.83        30\n",
            "\n",
            "    accuracy                           0.89       400\n",
            "   macro avg       0.89      0.89      0.89       400\n",
            "weighted avg       0.89      0.89      0.89       400\n",
            "\n"
          ],
          "name": "stdout"
        }
      ]
    },
    {
      "cell_type": "markdown",
      "metadata": {
        "id": "uNKkyi9Em_X7"
      },
      "source": [
        "SVC dane z wyrownaniem:"
      ]
    },
    {
      "cell_type": "code",
      "metadata": {
        "colab": {
          "base_uri": "https://localhost:8080/"
        },
        "id": "x74gkILzXF1X",
        "outputId": "60f7ff44-7084-4e3d-92b3-49b4f4cf2fd9"
      },
      "source": [
        "parameters = {'kernel':('linear', 'rbf'), 'C': np.linspace(start = 0.001, stop = 2, num = 200)}\n",
        "svc = SVC()\n",
        "model = GridSearchCV(svc, parameters, scoring='accuracy', cv=StratifiedKFold())\n",
        "model.fit(deskewed_hogdata_train_short,train_labels_short)\n",
        "params = model.best_params_\n",
        "my_svc = model.best_estimator_\n",
        "print(\"Wybrane parametry: \", params)\n",
        "print(\"Wybrany estymator: \", my_svc)\n",
        "\n",
        "pred_labels = model.predict(deskewed_hogdata_test_short)\n",
        "mask = pred_labels==test_labels_short"
      ],
      "execution_count": null,
      "outputs": [
        {
          "output_type": "stream",
          "text": [
            "Wybrane parametry:  {'C': 0.714211055276382, 'kernel': 'linear'}\n",
            "Wybrany estymator:  SVC(C=0.714211055276382, break_ties=False, cache_size=200, class_weight=None,\n",
            "    coef0=0.0, decision_function_shape='ovr', degree=3, gamma='scale',\n",
            "    kernel='linear', max_iter=-1, probability=False, random_state=None,\n",
            "    shrinking=True, tol=0.001, verbose=False)\n"
          ],
          "name": "stdout"
        }
      ]
    },
    {
      "cell_type": "code",
      "metadata": {
        "colab": {
          "base_uri": "https://localhost:8080/"
        },
        "id": "lxOrhHkWXcZ2",
        "outputId": "324e3ed1-7383-4df1-e2f7-20f3bcd4b94f"
      },
      "source": [
        "print(\"Accuracy dla SVC z wyrownaniem: \", accuracy_score(test_labels_short, pred_labels))\n",
        "print(\"Confusion matrix SVC (dane z wyrowaniem): \\n\")\n",
        "print(confusion_matrix(test_labels_short, pred_labels))\n",
        "print(\"Classification report SVC (dane z wyrowaniem): \")\n",
        "print(classification_report(test_labels_short, pred_labels))"
      ],
      "execution_count": null,
      "outputs": [
        {
          "output_type": "stream",
          "text": [
            "Accuracy dla SVC z wyrownaniem:  0.9125\n",
            "Confusion matrix SVC (dane z wyrowaniem): \n",
            "\n",
            "[[32  0  0  0  0  0  0  0  0  0]\n",
            " [ 0 52  0  0  0  0  0  1  0  0]\n",
            " [ 0  1 48  0  0  0  0  2  1  0]\n",
            " [ 0  0  3 37  0  2  0  0  2  1]\n",
            " [ 0  0  0  0 42  0  0  1  0  0]\n",
            " [ 0  0  0  0  0 29  0  1  1  0]\n",
            " [ 0  0  0  0  0  0 35  0  0  0]\n",
            " [ 1  0  4  4  0  1  0 32  0  0]\n",
            " [ 0  0  1  0  0  2  0  0 31  3]\n",
            " [ 0  0  1  0  0  0  0  2  0 27]]\n",
            "Classification report SVC (dane z wyrowaniem): \n",
            "              precision    recall  f1-score   support\n",
            "\n",
            "           0       0.97      1.00      0.98        32\n",
            "           1       0.98      0.98      0.98        53\n",
            "           2       0.84      0.92      0.88        52\n",
            "           3       0.90      0.82      0.86        45\n",
            "           4       1.00      0.98      0.99        43\n",
            "           5       0.85      0.94      0.89        31\n",
            "           6       1.00      1.00      1.00        35\n",
            "           7       0.82      0.76      0.79        42\n",
            "           8       0.89      0.84      0.86        37\n",
            "           9       0.87      0.90      0.89        30\n",
            "\n",
            "    accuracy                           0.91       400\n",
            "   macro avg       0.91      0.91      0.91       400\n",
            "weighted avg       0.91      0.91      0.91       400\n",
            "\n"
          ],
          "name": "stdout"
        }
      ]
    },
    {
      "cell_type": "markdown",
      "metadata": {
        "id": "8r0sIj0an93v"
      },
      "source": [
        "SVC dla surowych danych:"
      ]
    },
    {
      "cell_type": "code",
      "metadata": {
        "colab": {
          "base_uri": "https://localhost:8080/"
        },
        "id": "utUGndtLXzVD",
        "outputId": "cc382a59-e244-4708-8418-df10af5efecb"
      },
      "source": [
        "parameters = {'kernel':('linear', 'rbf'), 'C': np.linspace(start = 0.001, stop = 2, num = 200)}\n",
        "svc = SVC()\n",
        "model = GridSearchCV(svc, parameters, scoring='accuracy', cv=StratifiedKFold())\n",
        "model.fit(train_raw_data_short,train_labels_short)\n",
        "params = model.best_params_\n",
        "my_svc = model.best_estimator_\n",
        "print(\"Chosing params: \", params)\n",
        "print(\"Chosing estimator: \", my_svc)\n",
        "\n",
        "pred_labels = model.predict(test_raw_data_short)\n",
        "mask = pred_labels==test_labels_short"
      ],
      "execution_count": null,
      "outputs": [
        {
          "output_type": "stream",
          "text": [
            "Chosing params:  {'C': 1.2666984924623115, 'kernel': 'rbf'}\n",
            "Chosing estimator:  SVC(C=1.2666984924623115, break_ties=False, cache_size=200, class_weight=None,\n",
            "    coef0=0.0, decision_function_shape='ovr', degree=3, gamma='scale',\n",
            "    kernel='rbf', max_iter=-1, probability=False, random_state=None,\n",
            "    shrinking=True, tol=0.001, verbose=False)\n"
          ],
          "name": "stdout"
        }
      ]
    },
    {
      "cell_type": "code",
      "metadata": {
        "colab": {
          "base_uri": "https://localhost:8080/"
        },
        "id": "Vf9BOPMEIBB3",
        "outputId": "60c6dfd1-651c-4d37-c7f1-bca5159cadf8"
      },
      "source": [
        "print(\"Accuracy dla SVC (surowe dane): \", accuracy_score(test_labels_short, pred_labels))\n",
        "print(\"Confusion matrix dla SVC (surowe dane): \\n\")\n",
        "print(confusion_matrix(test_labels_short, pred_labels))\n",
        "print(\"Classification report dla SVC (surowe dane): \")\n",
        "print(classification_report(test_labels_short, pred_labels))"
      ],
      "execution_count": null,
      "outputs": [
        {
          "output_type": "stream",
          "text": [
            "Accuracy dla SVC (surowe dane):  0.8675\n",
            "Confusion matrix dla SVC (surowe dane): \n",
            "\n",
            "[[30  0  0  0  0  1  1  0  0  0]\n",
            " [ 0 52  1  0  0  0  0  0  0  0]\n",
            " [ 1  1 43  1  0  0  0  3  3  0]\n",
            " [ 0  0  0 36  0  7  0  0  1  1]\n",
            " [ 0  0  0  0 35  0  0  0  0  8]\n",
            " [ 1  0  0  0  1 27  0  1  0  1]\n",
            " [ 1  0  1  0  0  1 32  0  0  0]\n",
            " [ 0  0  2  1  1  0  0 36  0  2]\n",
            " [ 0  0  1  2  0  2  0  1 30  1]\n",
            " [ 0  0  1  0  2  0  0  1  0 26]]\n",
            "Classification report dla SVC (surowe dane): \n",
            "              precision    recall  f1-score   support\n",
            "\n",
            "           0       0.91      0.94      0.92        32\n",
            "           1       0.98      0.98      0.98        53\n",
            "           2       0.88      0.83      0.85        52\n",
            "           3       0.90      0.80      0.85        45\n",
            "           4       0.90      0.81      0.85        43\n",
            "           5       0.71      0.87      0.78        31\n",
            "           6       0.97      0.91      0.94        35\n",
            "           7       0.86      0.86      0.86        42\n",
            "           8       0.88      0.81      0.85        37\n",
            "           9       0.67      0.87      0.75        30\n",
            "\n",
            "    accuracy                           0.87       400\n",
            "   macro avg       0.87      0.87      0.86       400\n",
            "weighted avg       0.88      0.87      0.87       400\n",
            "\n"
          ],
          "name": "stdout"
        }
      ]
    },
    {
      "cell_type": "markdown",
      "metadata": {
        "id": "GuK9ZwI0tu74"
      },
      "source": [
        "SVC dla surowych danych zmieszanych:"
      ]
    },
    {
      "cell_type": "code",
      "metadata": {
        "colab": {
          "base_uri": "https://localhost:8080/"
        },
        "id": "gnnHTcVhcR8R",
        "outputId": "de7ffa77-3712-47db-bec5-5c6c3a3d07a3"
      },
      "source": [
        "parameters = {'kernel':('linear', 'rbf'), 'C': np.linspace(start = 0.001, stop = 2, num = 200)}\n",
        "svc = SVC()\n",
        "model = GridSearchCV(svc, parameters, scoring='accuracy', cv=StratifiedKFold())\n",
        "model.fit(permute_train_raw_data_short,train_labels_short)\n",
        "params = model.best_params_\n",
        "my_svc = model.best_estimator_\n",
        "print(\"Chosing params: \", params)\n",
        "print(\"Chosing estimator: \", my_svc)\n",
        "\n",
        "pred_labels = model.predict(permute_test_raw_data_short)\n",
        "mask = pred_labels==test_labels_short"
      ],
      "execution_count": null,
      "outputs": [
        {
          "output_type": "stream",
          "text": [
            "Chosing params:  {'C': 0.001, 'kernel': 'rbf'}\n",
            "Chosing estimator:  SVC(C=0.001, break_ties=False, cache_size=200, class_weight=None, coef0=0.0,\n",
            "    decision_function_shape='ovr', degree=3, gamma='scale', kernel='rbf',\n",
            "    max_iter=-1, probability=False, random_state=None, shrinking=True,\n",
            "    tol=0.001, verbose=False)\n"
          ],
          "name": "stdout"
        }
      ]
    },
    {
      "cell_type": "code",
      "metadata": {
        "colab": {
          "base_uri": "https://localhost:8080/"
        },
        "id": "Ukt5I6XAcU0h",
        "outputId": "0080ab90-7485-49c4-d82b-406aefab672e"
      },
      "source": [
        "print(\"Accuracy dla SVC (surowe dane zmieszane): \", accuracy_score(test_labels_short, pred_labels))\n",
        "print(\"Confusion matrix dla SVC (surowe dane zmieszane): \\n\")\n",
        "print(confusion_matrix(test_labels_short, pred_labels))\n",
        "print(\"Classification report dla SVC (surowe dane zmieszane): \")\n",
        "print(classification_report(test_labels_short, pred_labels))"
      ],
      "execution_count": null,
      "outputs": [
        {
          "output_type": "stream",
          "text": [
            "Accuracy dla SVC (surowe dane zmieszane):  0.1325\n",
            "Confusion matrix dla SVC (surowe dane zmieszane): \n",
            "\n",
            "[[ 0 32  0  0  0  0  0  0  0  0]\n",
            " [ 0 53  0  0  0  0  0  0  0  0]\n",
            " [ 0 52  0  0  0  0  0  0  0  0]\n",
            " [ 0 45  0  0  0  0  0  0  0  0]\n",
            " [ 0 43  0  0  0  0  0  0  0  0]\n",
            " [ 0 31  0  0  0  0  0  0  0  0]\n",
            " [ 0 35  0  0  0  0  0  0  0  0]\n",
            " [ 0 42  0  0  0  0  0  0  0  0]\n",
            " [ 0 37  0  0  0  0  0  0  0  0]\n",
            " [ 0 30  0  0  0  0  0  0  0  0]]\n",
            "Classification report dla SVC (surowe dane zmieszane): \n",
            "              precision    recall  f1-score   support\n",
            "\n",
            "           0       0.00      0.00      0.00        32\n",
            "           1       0.13      1.00      0.23        53\n",
            "           2       0.00      0.00      0.00        52\n",
            "           3       0.00      0.00      0.00        45\n",
            "           4       0.00      0.00      0.00        43\n",
            "           5       0.00      0.00      0.00        31\n",
            "           6       0.00      0.00      0.00        35\n",
            "           7       0.00      0.00      0.00        42\n",
            "           8       0.00      0.00      0.00        37\n",
            "           9       0.00      0.00      0.00        30\n",
            "\n",
            "    accuracy                           0.13       400\n",
            "   macro avg       0.01      0.10      0.02       400\n",
            "weighted avg       0.02      0.13      0.03       400\n",
            "\n"
          ],
          "name": "stdout"
        },
        {
          "output_type": "stream",
          "text": [
            "/usr/local/lib/python3.7/dist-packages/sklearn/metrics/_classification.py:1272: UndefinedMetricWarning: Precision and F-score are ill-defined and being set to 0.0 in labels with no predicted samples. Use `zero_division` parameter to control this behavior.\n",
            "  _warn_prf(average, modifier, msg_start, len(result))\n"
          ],
          "name": "stderr"
        }
      ]
    },
    {
      "cell_type": "markdown",
      "metadata": {
        "id": "qXKnNze6XGIj"
      },
      "source": [
        "# RandomFores"
      ]
    },
    {
      "cell_type": "markdown",
      "metadata": {
        "id": "RuyMlBYK76Nz"
      },
      "source": [
        "RandomForest bez wyrównania"
      ]
    },
    {
      "cell_type": "code",
      "metadata": {
        "id": "T0RMNbD8XD3Y"
      },
      "source": [
        "param_grid = {'max_depth': [5,10, 15, 20, 50, None], 'n_estimators':[20, 50, 60, 100, 120], 'max_features': [60]}\n",
        "model_rf = GridSearchCV(RandomForestClassifier(), param_grid=param_grid, scoring='accuracy')\n",
        "\n",
        "model_rf_non_deskewed = model_rf.fit(hogdata_train_short, train_labels_short)\n",
        "pred_labels_rf_non_deskewed = model_rf_non_deskewed.predict(hogdata_test_short)\n"
      ],
      "execution_count": null,
      "outputs": []
    },
    {
      "cell_type": "markdown",
      "metadata": {
        "id": "2V-70yjp8Dae"
      },
      "source": [
        "RandomForest z wyrównaniem:"
      ]
    },
    {
      "cell_type": "code",
      "metadata": {
        "id": "FIxU23fR8GIc"
      },
      "source": [
        "param_grid = {'max_depth': [5,10, 15, 20, 50, None], 'n_estimators':[20, 50, 60, 100, 120], 'max_features': [60]}\n",
        "model_rf = GridSearchCV(RandomForestClassifier(), param_grid=param_grid, scoring='accuracy')\n",
        "\n",
        "model_rf_deskewed = model_rf.fit(deskewed_hogdata_train_short, train_labels_short)\n",
        "pred_labels_rf_deskewed = model_rf_deskewed.predict(deskewed_hogdata_test_short)\n"
      ],
      "execution_count": null,
      "outputs": []
    },
    {
      "cell_type": "code",
      "metadata": {
        "colab": {
          "base_uri": "https://localhost:8080/"
        },
        "id": "1p9NsNz9dUhL",
        "outputId": "48108ad5-a318-440c-b3d9-5a780aded394"
      },
      "source": [
        "print(model_rf_deskewed.best_params_)"
      ],
      "execution_count": null,
      "outputs": [
        {
          "output_type": "stream",
          "text": [
            "{'max_depth': 15, 'max_features': 60, 'n_estimators': 100}\n"
          ],
          "name": "stdout"
        }
      ]
    },
    {
      "cell_type": "markdown",
      "metadata": {
        "id": "i9bEP7RkaVOK"
      },
      "source": [
        "Raport:"
      ]
    },
    {
      "cell_type": "code",
      "metadata": {
        "colab": {
          "base_uri": "https://localhost:8080/"
        },
        "id": "nkCUZpFlaWQ7",
        "outputId": "da36f873-0dd3-4f41-a874-19f93ddf9ea8"
      },
      "source": [
        "print(\"Accuracy dla wyrownanych obrazow: \" + str(accuracy_score(test_labels_short, pred_labels_rf_deskewed)))\n",
        "print(\"Accuracy dla niewyrownanych: \" + str(accuracy_score(test_labels_short, pred_labels_rf_non_deskewed)))"
      ],
      "execution_count": null,
      "outputs": [
        {
          "output_type": "stream",
          "text": [
            "Accuracy dla wyrownanych obrazow: 0.87\n",
            "Accuracy dla niewyrownanych: 0.8275\n"
          ],
          "name": "stdout"
        }
      ]
    },
    {
      "cell_type": "code",
      "metadata": {
        "colab": {
          "base_uri": "https://localhost:8080/"
        },
        "id": "nSe3I2x0cYeM",
        "outputId": "f8b69322-519f-48a7-c3ee-c973187167bb"
      },
      "source": [
        "cmatrix_rf_deskewed = confusion_matrix(test_labels_short, pred_labels_rf_deskewed)\n",
        "cmatrix_rf_non_deskewed = confusion_matrix(test_labels_short, pred_labels_rf_non_deskewed)\n",
        "\n",
        "print(\"Confusion matrix dla wyrownania:\")\n",
        "print(cmatrix_rf_deskewed)\n",
        "print(\"\\n Classification report dla wyrownania: \") \n",
        "print(classification_report(test_labels_short, pred_labels_rf_deskewed))\n",
        "print(\"\\n Confusion matrix dla niewyrownananych obrazow:\")\n",
        "print(cmatrix_rf_non_deskewed)\n",
        "print(\"\\n Classification report dla niewyrownananych obrazow: \") \n",
        "print(classification_report(test_labels_short, pred_labels_rf_non_deskewed))"
      ],
      "execution_count": null,
      "outputs": [
        {
          "output_type": "stream",
          "text": [
            "Confusion matrix dla wyrownania:\n",
            "[[31  0  0  1  0  0  0  0  0  0]\n",
            " [ 0 52  0  0  0  0  0  1  0  0]\n",
            " [ 0  2 43  0  0  1  0  5  0  1]\n",
            " [ 0  0  1 35  0  2  0  1  6  0]\n",
            " [ 0  0  0  1 40  0  1  1  0  0]\n",
            " [ 1  0  0  1  0 27  1  0  1  0]\n",
            " [ 0  0  0  0  0  1 34  0  0  0]\n",
            " [ 0  0  6  2  1  0  0 31  1  1]\n",
            " [ 0  0  0  2  0  2  0  0 28  5]\n",
            " [ 0  0  1  0  0  0  0  0  2 27]]\n",
            "\n",
            " Classification report dla wyrownania: \n",
            "              precision    recall  f1-score   support\n",
            "\n",
            "           0       0.97      0.97      0.97        32\n",
            "           1       0.96      0.98      0.97        53\n",
            "           2       0.84      0.83      0.83        52\n",
            "           3       0.83      0.78      0.80        45\n",
            "           4       0.98      0.93      0.95        43\n",
            "           5       0.82      0.87      0.84        31\n",
            "           6       0.94      0.97      0.96        35\n",
            "           7       0.79      0.74      0.77        42\n",
            "           8       0.74      0.76      0.75        37\n",
            "           9       0.79      0.90      0.84        30\n",
            "\n",
            "    accuracy                           0.87       400\n",
            "   macro avg       0.87      0.87      0.87       400\n",
            "weighted avg       0.87      0.87      0.87       400\n",
            "\n",
            "\n",
            " Confusion matrix dla niewyrownananych obrazow:\n",
            "[[27  0  1  0  0  1  2  1  0  0]\n",
            " [ 0 50  1  0  0  1  0  0  1  0]\n",
            " [ 0  0 40  0  0  1  1  9  1  0]\n",
            " [ 0  0  1 38  0  4  0  0  2  0]\n",
            " [ 0  0  0  0 39  0  1  0  0  3]\n",
            " [ 0  2  0  0  0 28  0  0  0  1]\n",
            " [ 3  1  0  0  1  0 30  0  0  0]\n",
            " [ 1  1  6  3  1  1  0 27  1  1]\n",
            " [ 0  0  1  1  1  3  1  0 26  4]\n",
            " [ 0  0  1  0  0  0  0  1  2 26]]\n",
            "\n",
            " Classification report dla niewyrownananych obrazow: \n",
            "              precision    recall  f1-score   support\n",
            "\n",
            "           0       0.87      0.84      0.86        32\n",
            "           1       0.93      0.94      0.93        53\n",
            "           2       0.78      0.77      0.78        52\n",
            "           3       0.90      0.84      0.87        45\n",
            "           4       0.93      0.91      0.92        43\n",
            "           5       0.72      0.90      0.80        31\n",
            "           6       0.86      0.86      0.86        35\n",
            "           7       0.71      0.64      0.67        42\n",
            "           8       0.79      0.70      0.74        37\n",
            "           9       0.74      0.87      0.80        30\n",
            "\n",
            "    accuracy                           0.83       400\n",
            "   macro avg       0.82      0.83      0.82       400\n",
            "weighted avg       0.83      0.83      0.83       400\n",
            "\n"
          ],
          "name": "stdout"
        }
      ]
    },
    {
      "cell_type": "markdown",
      "metadata": {
        "id": "5SnJyVlmhbRi"
      },
      "source": [
        "RandomForest dla wektorów surowych danych 28*28 (zad 3):"
      ]
    },
    {
      "cell_type": "code",
      "metadata": {
        "colab": {
          "base_uri": "https://localhost:8080/"
        },
        "id": "7eUp-KXzhnOj",
        "outputId": "af58ca1d-5fdd-4a19-e396-479c1687fbbb"
      },
      "source": [
        "rf_model_raw = model_rf.fit(train_raw_data_short, train_labels_short)\n",
        "rf_pred_labels_raw = rf_model_raw.predict(test_raw_data_short)\n",
        "print(\"Accuracy dla surowych danych: \" + str(accuracy_score(test_labels_short, rf_pred_labels_raw)))\n"
      ],
      "execution_count": null,
      "outputs": [
        {
          "output_type": "stream",
          "text": [
            "Accuracy dla surowych danych: 0.8175\n"
          ],
          "name": "stdout"
        }
      ]
    },
    {
      "cell_type": "code",
      "metadata": {
        "colab": {
          "base_uri": "https://localhost:8080/"
        },
        "id": "lix1HUsniQI3",
        "outputId": "fafdc66b-b58e-4e04-9859-699d2e3f4731"
      },
      "source": [
        "rf_cmatrix_raw = confusion_matrix(test_labels_short, rf_pred_labels_raw)\n",
        "print(\"Confusion matrix dla surowych danych:\")\n",
        "print(rf_cmatrix_raw)\n",
        "print(\"\\n Classification report dla surowych danych: \") \n",
        "print(classification_report(test_labels_short, rf_pred_labels_raw))"
      ],
      "execution_count": null,
      "outputs": [
        {
          "output_type": "stream",
          "text": [
            "Confusion matrix dla surowych danych:\n",
            "[[30  0  0  0  0  0  2  0  0  0]\n",
            " [ 0 50  0  2  0  0  0  0  1  0]\n",
            " [ 1  3 40  1  2  1  0  1  2  1]\n",
            " [ 0  1  1 33  0  6  1  0  2  1]\n",
            " [ 0  0  1  0 34  0  0  0  0  8]\n",
            " [ 1  0  0  0  2 26  0  1  0  1]\n",
            " [ 1  0  1  0  1  2 30  0  0  0]\n",
            " [ 0  0  2  0  1  0  0 35  0  4]\n",
            " [ 0  0  1  6  0  2  0  1 24  3]\n",
            " [ 0  0  1  0  2  0  0  2  0 25]]\n",
            "\n",
            " Classification report dla surowych danych: \n",
            "              precision    recall  f1-score   support\n",
            "\n",
            "           0       0.91      0.94      0.92        32\n",
            "           1       0.93      0.94      0.93        53\n",
            "           2       0.85      0.77      0.81        52\n",
            "           3       0.79      0.73      0.76        45\n",
            "           4       0.81      0.79      0.80        43\n",
            "           5       0.70      0.84      0.76        31\n",
            "           6       0.91      0.86      0.88        35\n",
            "           7       0.88      0.83      0.85        42\n",
            "           8       0.83      0.65      0.73        37\n",
            "           9       0.58      0.83      0.68        30\n",
            "\n",
            "    accuracy                           0.82       400\n",
            "   macro avg       0.82      0.82      0.81       400\n",
            "weighted avg       0.83      0.82      0.82       400\n",
            "\n"
          ],
          "name": "stdout"
        }
      ]
    },
    {
      "cell_type": "markdown",
      "metadata": {
        "id": "Ag30TH283ooz"
      },
      "source": [
        "RandomForest dla surowych danych zmieszanych\n",
        "\n"
      ]
    },
    {
      "cell_type": "code",
      "metadata": {
        "colab": {
          "base_uri": "https://localhost:8080/"
        },
        "id": "VzS7z1Bi3n5s",
        "outputId": "4c73432f-1926-43e3-abec-61c5824130db"
      },
      "source": [
        "rf_model_shuffle = model_rf.fit(permute_train_raw_data_short, train_labels_short)\n",
        "rf_pred_labels_shuffle = rf_model_raw.predict(permute_test_raw_data_short)\n",
        "print(\"Accuracy dla surowych danych: \" + str(accuracy_score(test_labels_short, rf_pred_labels_shuffle)))\n"
      ],
      "execution_count": null,
      "outputs": [
        {
          "output_type": "stream",
          "text": [
            "Accuracy dla surowych danych: 0.1\n"
          ],
          "name": "stdout"
        }
      ]
    },
    {
      "cell_type": "code",
      "metadata": {
        "colab": {
          "base_uri": "https://localhost:8080/"
        },
        "id": "OZWSba-c_33-",
        "outputId": "312abcc4-b114-48f1-d04c-489b75cd9e18"
      },
      "source": [
        "rf_cmatrix_shuffle = confusion_matrix(test_labels_short, rf_pred_labels_shuffle)\n",
        "print(\"Confusion matrix dla surowych danych:\")\n",
        "print(rf_cmatrix_shuffle)\n",
        "print(\"\\n Classification report dla surowych danych: \") \n",
        "print(classification_report(test_labels_short, rf_pred_labels_shuffle))"
      ],
      "execution_count": null,
      "outputs": [
        {
          "output_type": "stream",
          "text": [
            "Confusion matrix dla surowych danych:\n",
            "[[ 6  7  3  4  3  3  0  4  0  2]\n",
            " [12  9  5  5  5  5  4  1  1  6]\n",
            " [ 5 11  7  5  7  4  2  5  4  2]\n",
            " [ 8  5  5  3  6  3  5  6  1  3]\n",
            " [ 4  3  6  8  4  4  6  3  3  2]\n",
            " [ 7  3  1  3  3  0  2  3  4  5]\n",
            " [ 6  8  7  4  2  2  1  4  1  0]\n",
            " [ 1 11  5  0  6  4  3  7  3  2]\n",
            " [ 5  9  5  3  2  2  2  3  2  4]\n",
            " [ 4  6  2  2  4  3  2  6  0  1]]\n",
            "\n",
            " Classification report dla surowych danych: \n",
            "              precision    recall  f1-score   support\n",
            "\n",
            "           0       0.10      0.19      0.13        32\n",
            "           1       0.12      0.17      0.14        53\n",
            "           2       0.15      0.13      0.14        52\n",
            "           3       0.08      0.07      0.07        45\n",
            "           4       0.10      0.09      0.09        43\n",
            "           5       0.00      0.00      0.00        31\n",
            "           6       0.04      0.03      0.03        35\n",
            "           7       0.17      0.17      0.17        42\n",
            "           8       0.11      0.05      0.07        37\n",
            "           9       0.04      0.03      0.04        30\n",
            "\n",
            "    accuracy                           0.10       400\n",
            "   macro avg       0.09      0.09      0.09       400\n",
            "weighted avg       0.10      0.10      0.10       400\n",
            "\n"
          ],
          "name": "stdout"
        }
      ]
    },
    {
      "cell_type": "markdown",
      "metadata": {
        "id": "kbFsYDFmXgf5"
      },
      "source": [
        "# Sieci Neuronowe"
      ]
    },
    {
      "cell_type": "markdown",
      "metadata": {
        "id": "Dlj5aVzjm_95"
      },
      "source": [
        "Sieci Neuronowe dla niewyrównanych danych:"
      ]
    },
    {
      "cell_type": "code",
      "metadata": {
        "id": "vzNr6gWZnDbH"
      },
      "source": [
        "#wektoryzacja\n",
        "\n",
        "nn_train_non_deskewed = np.array(hogdata_train).reshape((len(train_images), 81))\n",
        "nn_train_non_deskewed = nn_train_non_deskewed.astype('float32') / 255\n",
        "\n",
        "nn_test_non_deskewed = np.array(hogdata_test).reshape((len(test_images), 81))\n",
        "nn_test_non_deskewed = nn_test_non_deskewed.astype('float32') / 255\n",
        "\n",
        "nn_train_non_deskewed_short = nn_train_non_deskewed[0:600,]\n",
        "nn_test_non_deskewed_short = nn_test_non_deskewed[600:1000,]\n",
        "\n"
      ],
      "execution_count": null,
      "outputs": []
    },
    {
      "cell_type": "code",
      "metadata": {
        "colab": {
          "base_uri": "https://localhost:8080/"
        },
        "id": "qo4P8eOTpHvG",
        "outputId": "201d492a-6fd0-4299-db5e-d6bb5f097ef1"
      },
      "source": [
        "\n",
        "model=KerasClassifier(create_model)\n",
        "# param_grid = dict(epochs=[10,20,30])\n",
        "batch_size = [5,10, 20]\n",
        "epochs = [1,5,10,15]\n",
        "\n",
        "param_grid = dict(batch_size=batch_size, epochs=epochs)\n",
        "grid = GridSearchCV(estimator=model, param_grid=param_grid, n_jobs=-1, cv=3)\n",
        "\n",
        "grid.fit(nn_train_non_deskewed_short,encoded_train_labels_short)\n"
      ],
      "execution_count": null,
      "outputs": [
        {
          "output_type": "stream",
          "text": [
            "Epoch 1/15\n",
            "120/120 [==============================] - 1s 1ms/step - loss: 2.3017 - accuracy: 0.1149\n",
            "Epoch 2/15\n",
            "120/120 [==============================] - 0s 1ms/step - loss: 2.2887 - accuracy: 0.1526\n",
            "Epoch 3/15\n",
            "120/120 [==============================] - 0s 1ms/step - loss: 2.2846 - accuracy: 0.1340\n",
            "Epoch 4/15\n",
            "120/120 [==============================] - 0s 1ms/step - loss: 2.2803 - accuracy: 0.1343\n",
            "Epoch 5/15\n",
            "120/120 [==============================] - 0s 1ms/step - loss: 2.2721 - accuracy: 0.1310\n",
            "Epoch 6/15\n",
            "120/120 [==============================] - 0s 1ms/step - loss: 2.2498 - accuracy: 0.1296\n",
            "Epoch 7/15\n",
            "120/120 [==============================] - 0s 1ms/step - loss: 2.2323 - accuracy: 0.1715\n",
            "Epoch 8/15\n",
            "120/120 [==============================] - 0s 1ms/step - loss: 2.1961 - accuracy: 0.1792\n",
            "Epoch 9/15\n",
            "120/120 [==============================] - 0s 1ms/step - loss: 2.1799 - accuracy: 0.2317\n",
            "Epoch 10/15\n",
            "120/120 [==============================] - 0s 1ms/step - loss: 2.1713 - accuracy: 0.2398\n",
            "Epoch 11/15\n",
            "120/120 [==============================] - 0s 1ms/step - loss: 2.1129 - accuracy: 0.2911\n",
            "Epoch 12/15\n",
            "120/120 [==============================] - 0s 1ms/step - loss: 2.0671 - accuracy: 0.3178\n",
            "Epoch 13/15\n",
            "120/120 [==============================] - 0s 1ms/step - loss: 2.0266 - accuracy: 0.3313\n",
            "Epoch 14/15\n",
            "120/120 [==============================] - 0s 1ms/step - loss: 1.9876 - accuracy: 0.3698\n",
            "Epoch 15/15\n",
            "120/120 [==============================] - 0s 1ms/step - loss: 1.9420 - accuracy: 0.3897\n"
          ],
          "name": "stdout"
        },
        {
          "output_type": "execute_result",
          "data": {
            "text/plain": [
              "GridSearchCV(cv=3, error_score=nan,\n",
              "             estimator=<tensorflow.python.keras.wrappers.scikit_learn.KerasClassifier object at 0x7f2f33224f50>,\n",
              "             iid='deprecated', n_jobs=-1,\n",
              "             param_grid={'batch_size': [5, 10, 20], 'epochs': [1, 5, 10, 15]},\n",
              "             pre_dispatch='2*n_jobs', refit=True, return_train_score=False,\n",
              "             scoring=None, verbose=0)"
            ]
          },
          "metadata": {
            "tags": []
          },
          "execution_count": 83
        }
      ]
    },
    {
      "cell_type": "code",
      "metadata": {
        "colab": {
          "base_uri": "https://localhost:8080/"
        },
        "id": "xigajhC-rtJe",
        "outputId": "f6f12a8f-e139-4f93-be89-7b089f2ce2b1"
      },
      "source": [
        "print(grid.best_params_)\n",
        "y_pred = grid.predict(nn_test_non_deskewed_short)"
      ],
      "execution_count": null,
      "outputs": [
        {
          "output_type": "stream",
          "text": [
            "{'batch_size': 5, 'epochs': 15}\n"
          ],
          "name": "stdout"
        },
        {
          "output_type": "stream",
          "text": [
            "/usr/local/lib/python3.7/dist-packages/tensorflow/python/keras/engine/sequential.py:450: UserWarning: `model.predict_classes()` is deprecated and will be removed after 2021-01-01. Please use instead:* `np.argmax(model.predict(x), axis=-1)`,   if your model does multi-class classification   (e.g. if it uses a `softmax` last-layer activation).* `(model.predict(x) > 0.5).astype(\"int32\")`,   if your model does binary classification   (e.g. if it uses a `sigmoid` last-layer activation).\n",
            "  warnings.warn('`model.predict_classes()` is deprecated and '\n"
          ],
          "name": "stderr"
        }
      ]
    },
    {
      "cell_type": "code",
      "metadata": {
        "colab": {
          "base_uri": "https://localhost:8080/"
        },
        "id": "CnzuNhuls3Jo",
        "outputId": "08c76d7d-24c2-4eb9-dd59-f7ed161617d7"
      },
      "source": [
        "print(\"Accuracy : \", accuracy_score(test_labels_short, y_pred))\n",
        "print(\"Confusion matrix dla Sieci Neuronowych niewyrownanych: \\n\")\n",
        "print(confusion_matrix(test_labels_short, y_pred))\n",
        "print(\"Classification report dla Sieci Neuronowych niewyrownanych: \")\n",
        "print(classification_report(test_labels_short, y_pred))"
      ],
      "execution_count": null,
      "outputs": [
        {
          "output_type": "stream",
          "text": [
            "Accuracy :  0.4225\n",
            "Confusion matrix dla Sieci Neuronowych niewyrownanych: \n",
            "\n",
            "[[16  9  0  0  0  0  0  2  0  5]\n",
            " [ 0 53  0  0  0  0  0  0  0  0]\n",
            " [ 0  8 32  1  0  0  0  9  0  2]\n",
            " [ 0  3 17  5  0  0  0 19  0  1]\n",
            " [ 0 18  0  0 14  0  0  0  0 11]\n",
            " [ 0  4  1  0  0  0  0 12  0 14]\n",
            " [10 20  0  0  2  0  2  0  0  1]\n",
            " [ 0  2 10  0  0  0  0 27  0  3]\n",
            " [ 1  9  4  0  0  0  0 13  0 10]\n",
            " [ 1  1  0  0  0  0  0  8  0 20]]\n",
            "Classification report dla Sieci Neuronowych niewyrownanych: \n",
            "              precision    recall  f1-score   support\n",
            "\n",
            "           0       0.57      0.50      0.53        32\n",
            "           1       0.42      1.00      0.59        53\n",
            "           2       0.50      0.62      0.55        52\n",
            "           3       0.83      0.11      0.20        45\n",
            "           4       0.88      0.33      0.47        43\n",
            "           5       0.00      0.00      0.00        31\n",
            "           6       1.00      0.06      0.11        35\n",
            "           7       0.30      0.64      0.41        42\n",
            "           8       0.00      0.00      0.00        37\n",
            "           9       0.30      0.67      0.41        30\n",
            "\n",
            "    accuracy                           0.42       400\n",
            "   macro avg       0.48      0.39      0.33       400\n",
            "weighted avg       0.50      0.42      0.35       400\n",
            "\n"
          ],
          "name": "stdout"
        },
        {
          "output_type": "stream",
          "text": [
            "/usr/local/lib/python3.7/dist-packages/sklearn/metrics/_classification.py:1272: UndefinedMetricWarning: Precision and F-score are ill-defined and being set to 0.0 in labels with no predicted samples. Use `zero_division` parameter to control this behavior.\n",
            "  _warn_prf(average, modifier, msg_start, len(result))\n"
          ],
          "name": "stderr"
        }
      ]
    },
    {
      "cell_type": "markdown",
      "metadata": {
        "id": "DkO1En0Jt1nv"
      },
      "source": [
        "Sieci Neuronowe dla wyrównanych danych:"
      ]
    },
    {
      "cell_type": "code",
      "metadata": {
        "id": "IZtJK2uBt4X5"
      },
      "source": [
        "#wektoryzacja\n",
        "\n",
        "nn_train_deskewed = np.array(hogdata_train_deskewed).reshape((60000, 81))\n",
        "nn_train_deskewed = nn_train_deskewed.astype('float32') / 255\n",
        "\n",
        "nn_test_deskewed = np.array(hogdata_test_deskewed).reshape((10000, 81))\n",
        "nn_test_deskewed = nn_test_deskewed.astype('float32') / 255\n",
        "\n",
        "nn_train_deskewed_short = nn_train_deskewed[0:600,]\n",
        "nn_test_deskewed_short = nn_test_deskewed[600:1000,]"
      ],
      "execution_count": null,
      "outputs": []
    },
    {
      "cell_type": "code",
      "metadata": {
        "colab": {
          "base_uri": "https://localhost:8080/"
        },
        "id": "eXvVM-UVuCYG",
        "outputId": "4cf3520d-3972-4bc0-e461-d6a3d3d6cff4"
      },
      "source": [
        "\n",
        "model=KerasClassifier(create_model)\n",
        "# param_grid = dict(epochs=[10,20,30])\n",
        "batch_size = [5,10, 20]\n",
        "epochs = [1,5,10,15]\n",
        "\n",
        "param_grid = dict(batch_size=batch_size, epochs=epochs)\n",
        "grid = GridSearchCV(estimator=model, param_grid=param_grid, n_jobs=-1, cv=3)\n",
        "\n",
        "grid.fit(nn_train_deskewed_short,encoded_train_labels_short)\n",
        "# grid.fit(nn_train_deskewed,to_categorical(train_labels))"
      ],
      "execution_count": null,
      "outputs": [
        {
          "output_type": "stream",
          "text": [
            "Epoch 1/15\n",
            "120/120 [==============================] - 1s 1ms/step - loss: 2.3007 - accuracy: 0.1118\n",
            "Epoch 2/15\n",
            "120/120 [==============================] - 0s 1ms/step - loss: 2.2884 - accuracy: 0.1465\n",
            "Epoch 3/15\n",
            "120/120 [==============================] - 0s 1ms/step - loss: 2.2774 - accuracy: 0.1432\n",
            "Epoch 4/15\n",
            "120/120 [==============================] - 0s 1ms/step - loss: 2.2702 - accuracy: 0.1260\n",
            "Epoch 5/15\n",
            "120/120 [==============================] - 0s 1ms/step - loss: 2.2419 - accuracy: 0.1546\n",
            "Epoch 6/15\n",
            "120/120 [==============================] - 0s 1ms/step - loss: 2.2183 - accuracy: 0.2127\n",
            "Epoch 7/15\n",
            "120/120 [==============================] - 0s 1ms/step - loss: 2.1838 - accuracy: 0.2177\n",
            "Epoch 8/15\n",
            "120/120 [==============================] - 0s 1ms/step - loss: 2.1277 - accuracy: 0.2735\n",
            "Epoch 9/15\n",
            "120/120 [==============================] - 0s 1ms/step - loss: 2.0936 - accuracy: 0.2582\n",
            "Epoch 10/15\n",
            "120/120 [==============================] - 0s 1ms/step - loss: 2.0425 - accuracy: 0.3107\n",
            "Epoch 11/15\n",
            "120/120 [==============================] - 0s 1ms/step - loss: 1.9983 - accuracy: 0.3680\n",
            "Epoch 12/15\n",
            "120/120 [==============================] - 0s 1ms/step - loss: 1.9703 - accuracy: 0.4455\n",
            "Epoch 13/15\n",
            "120/120 [==============================] - 0s 1ms/step - loss: 1.9067 - accuracy: 0.4245\n",
            "Epoch 14/15\n",
            "120/120 [==============================] - 0s 1ms/step - loss: 1.8347 - accuracy: 0.5332\n",
            "Epoch 15/15\n",
            "120/120 [==============================] - 0s 1ms/step - loss: 1.8204 - accuracy: 0.4902\n"
          ],
          "name": "stdout"
        },
        {
          "output_type": "execute_result",
          "data": {
            "text/plain": [
              "GridSearchCV(cv=3, error_score=nan,\n",
              "             estimator=<tensorflow.python.keras.wrappers.scikit_learn.KerasClassifier object at 0x7f2f332e9d90>,\n",
              "             iid='deprecated', n_jobs=-1,\n",
              "             param_grid={'batch_size': [5, 10, 20], 'epochs': [1, 5, 10, 15]},\n",
              "             pre_dispatch='2*n_jobs', refit=True, return_train_score=False,\n",
              "             scoring=None, verbose=0)"
            ]
          },
          "metadata": {
            "tags": []
          },
          "execution_count": 87
        }
      ]
    },
    {
      "cell_type": "code",
      "metadata": {
        "colab": {
          "base_uri": "https://localhost:8080/"
        },
        "id": "JSR6hGcvuHbq",
        "outputId": "32ba5a51-4ec4-470d-9efb-5e74656fa640"
      },
      "source": [
        "print(grid.best_params_)\n",
        "y_pred = grid.predict(nn_test_deskewed_short)\n",
        "\n",
        "print(\"Accuracy : \", accuracy_score(test_labels_short, y_pred))\n",
        "print(\"Confusion matrix dla Sieci Neuronowych (wyrowane dane): \\n\")\n",
        "print(confusion_matrix(test_labels_short, y_pred))\n",
        "print(\"Classification report dla Sieci Neuronowych (wyrownane dane): \")\n",
        "print(classification_report(test_labels_short, y_pred))\n"
      ],
      "execution_count": null,
      "outputs": [
        {
          "output_type": "stream",
          "text": [
            "{'batch_size': 5, 'epochs': 15}\n",
            "Accuracy :  0.485\n",
            "Confusion matrix dla Sieci Neuronowych (wyrowane dane): \n",
            "\n",
            "[[ 7  1  0  0  0  0 12  0  0 12]\n",
            " [ 0 53  0  0  0  0  0  0  0  0]\n",
            " [ 0  1 48  0  0  0  0  0  0  3]\n",
            " [ 0  1 40  0  0  0  0  0  0  4]\n",
            " [ 0  2  0  0 24  0 11  0  0  6]\n",
            " [ 0  1  1  1  1  0  0  0  0 27]\n",
            " [ 0  2  0  0  1  0 32  0  0  0]\n",
            " [ 0  0 31  0  3  0  0  3  0  5]\n",
            " [ 0  0  7  0  7  0  1  0  0 22]\n",
            " [ 0  0  0  0  2  0  1  0  0 27]]\n",
            "Classification report dla Sieci Neuronowych (wyrownane dane): \n",
            "              precision    recall  f1-score   support\n",
            "\n",
            "           0       1.00      0.22      0.36        32\n",
            "           1       0.87      1.00      0.93        53\n",
            "           2       0.38      0.92      0.54        52\n",
            "           3       0.00      0.00      0.00        45\n",
            "           4       0.63      0.56      0.59        43\n",
            "           5       0.00      0.00      0.00        31\n",
            "           6       0.56      0.91      0.70        35\n",
            "           7       1.00      0.07      0.13        42\n",
            "           8       0.00      0.00      0.00        37\n",
            "           9       0.25      0.90      0.40        30\n",
            "\n",
            "    accuracy                           0.48       400\n",
            "   macro avg       0.47      0.46      0.36       400\n",
            "weighted avg       0.49      0.48      0.39       400\n",
            "\n"
          ],
          "name": "stdout"
        },
        {
          "output_type": "stream",
          "text": [
            "/usr/local/lib/python3.7/dist-packages/tensorflow/python/keras/engine/sequential.py:450: UserWarning: `model.predict_classes()` is deprecated and will be removed after 2021-01-01. Please use instead:* `np.argmax(model.predict(x), axis=-1)`,   if your model does multi-class classification   (e.g. if it uses a `softmax` last-layer activation).* `(model.predict(x) > 0.5).astype(\"int32\")`,   if your model does binary classification   (e.g. if it uses a `sigmoid` last-layer activation).\n",
            "  warnings.warn('`model.predict_classes()` is deprecated and '\n",
            "/usr/local/lib/python3.7/dist-packages/sklearn/metrics/_classification.py:1272: UndefinedMetricWarning: Precision and F-score are ill-defined and being set to 0.0 in labels with no predicted samples. Use `zero_division` parameter to control this behavior.\n",
            "  _warn_prf(average, modifier, msg_start, len(result))\n"
          ],
          "name": "stderr"
        }
      ]
    },
    {
      "cell_type": "markdown",
      "metadata": {
        "id": "lzNh4uRUw83t"
      },
      "source": [
        "Sieci neuronowe dla danych surowych:"
      ]
    },
    {
      "cell_type": "code",
      "metadata": {
        "colab": {
          "base_uri": "https://localhost:8080/"
        },
        "id": "ykIt-HF7xH-G",
        "outputId": "079791b1-2a96-4b25-b300-a43808ec7312"
      },
      "source": [
        "model=KerasClassifier(create_model)\n",
        "batch_size = [5,10, 20]\n",
        "epochs = [1,5,10,15]\n",
        "\n",
        "param_grid = dict(batch_size=batch_size, epochs=epochs)\n",
        "nn_model_raw = GridSearchCV(estimator=model, param_grid=param_grid, n_jobs=-1, cv=3)\n",
        "nn_model_raw.fit(train_raw_data_short,encoded_train_labels_short)\n"
      ],
      "execution_count": null,
      "outputs": [
        {
          "output_type": "stream",
          "text": [
            "Epoch 1/15\n",
            "120/120 [==============================] - 1s 4ms/step - loss: 79.4667 - accuracy: 0.5177\n",
            "Epoch 2/15\n",
            "120/120 [==============================] - 1s 4ms/step - loss: 9.7390 - accuracy: 0.8524\n",
            "Epoch 3/15\n",
            "120/120 [==============================] - 1s 4ms/step - loss: 7.3870 - accuracy: 0.8927\n",
            "Epoch 4/15\n",
            "120/120 [==============================] - 1s 4ms/step - loss: 2.5474 - accuracy: 0.9479\n",
            "Epoch 5/15\n",
            "120/120 [==============================] - 1s 4ms/step - loss: 2.7966 - accuracy: 0.9527\n",
            "Epoch 6/15\n",
            "120/120 [==============================] - 1s 4ms/step - loss: 1.8540 - accuracy: 0.9639\n",
            "Epoch 7/15\n",
            "120/120 [==============================] - 1s 4ms/step - loss: 1.5772 - accuracy: 0.9675\n",
            "Epoch 8/15\n",
            "120/120 [==============================] - 1s 4ms/step - loss: 0.6812 - accuracy: 0.9829\n",
            "Epoch 9/15\n",
            "120/120 [==============================] - 1s 4ms/step - loss: 0.1032 - accuracy: 0.9976\n",
            "Epoch 10/15\n",
            "120/120 [==============================] - 0s 4ms/step - loss: 0.1918 - accuracy: 0.9959\n",
            "Epoch 11/15\n",
            "120/120 [==============================] - 0s 4ms/step - loss: 0.3763 - accuracy: 0.9933\n",
            "Epoch 12/15\n",
            "120/120 [==============================] - 0s 4ms/step - loss: 0.5642 - accuracy: 0.9916\n",
            "Epoch 13/15\n",
            "120/120 [==============================] - 0s 4ms/step - loss: 0.0558 - accuracy: 0.9978\n",
            "Epoch 14/15\n",
            "120/120 [==============================] - 0s 4ms/step - loss: 0.7871 - accuracy: 0.9942\n",
            "Epoch 15/15\n",
            "120/120 [==============================] - 0s 4ms/step - loss: 0.0969 - accuracy: 0.9941\n"
          ],
          "name": "stdout"
        },
        {
          "output_type": "execute_result",
          "data": {
            "text/plain": [
              "GridSearchCV(cv=3, error_score=nan,\n",
              "             estimator=<tensorflow.python.keras.wrappers.scikit_learn.KerasClassifier object at 0x7f2f25f96fd0>,\n",
              "             iid='deprecated', n_jobs=-1,\n",
              "             param_grid={'batch_size': [5, 10, 20], 'epochs': [1, 5, 10, 15]},\n",
              "             pre_dispatch='2*n_jobs', refit=True, return_train_score=False,\n",
              "             scoring=None, verbose=0)"
            ]
          },
          "metadata": {
            "tags": []
          },
          "execution_count": 99
        }
      ]
    },
    {
      "cell_type": "code",
      "metadata": {
        "colab": {
          "base_uri": "https://localhost:8080/"
        },
        "id": "_6meXlz3xTxI",
        "outputId": "1b5ff511-0091-44b0-b199-b7643f37517f"
      },
      "source": [
        "print(nn_model_raw.best_params_)\n",
        "nn_pred_raw = nn_model_raw.predict(test_raw_data_short)\n",
        "\n",
        "print(\"Accuracy dla Sieci Neuronowych (surowe dane): \", accuracy_score(test_labels_short, nn_pred_raw))\n",
        "print(\"Confusion matrix dla Sieci Neuronowych (surowe dane): \\n\")\n",
        "print(confusion_matrix(test_labels_short, nn_pred_raw))\n",
        "print(\"Classification report dla Sieci Neuronowych (surowe dane): \")\n",
        "print(classification_report(test_labels_short, nn_pred_raw))"
      ],
      "execution_count": null,
      "outputs": [
        {
          "output_type": "stream",
          "text": [
            "{'batch_size': 5, 'epochs': 15}\n",
            "Accuracy dla Sieci Neuronowych (surowe dane):  0.8375\n",
            "Confusion matrix dla Sieci Neuronowych (surowe dane): \n",
            "\n",
            "[[29  0  1  1  0  0  1  0  0  0]\n",
            " [ 0 49  2  1  0  0  0  0  1  0]\n",
            " [ 1  0 41  1  0  0  0  0  8  1]\n",
            " [ 0  0  0 43  0  2  0  0  0  0]\n",
            " [ 0  0  0  1 31  0  2  0  1  8]\n",
            " [ 0  0  0  1  3 20  0  3  3  1]\n",
            " [ 1  0  0  0  0  0 34  0  0  0]\n",
            " [ 0  0  4  0  1  0  0 32  1  4]\n",
            " [ 0  0  1  3  0  0  0  1 31  1]\n",
            " [ 0  0  0  0  0  0  2  2  1 25]]\n",
            "Classification report dla Sieci Neuronowych (surowe dane): \n",
            "              precision    recall  f1-score   support\n",
            "\n",
            "           0       0.94      0.91      0.92        32\n",
            "           1       1.00      0.92      0.96        53\n",
            "           2       0.84      0.79      0.81        52\n",
            "           3       0.84      0.96      0.90        45\n",
            "           4       0.89      0.72      0.79        43\n",
            "           5       0.91      0.65      0.75        31\n",
            "           6       0.87      0.97      0.92        35\n",
            "           7       0.84      0.76      0.80        42\n",
            "           8       0.67      0.84      0.75        37\n",
            "           9       0.62      0.83      0.71        30\n",
            "\n",
            "    accuracy                           0.84       400\n",
            "   macro avg       0.84      0.83      0.83       400\n",
            "weighted avg       0.85      0.84      0.84       400\n",
            "\n"
          ],
          "name": "stdout"
        },
        {
          "output_type": "stream",
          "text": [
            "/usr/local/lib/python3.7/dist-packages/tensorflow/python/keras/engine/sequential.py:450: UserWarning: `model.predict_classes()` is deprecated and will be removed after 2021-01-01. Please use instead:* `np.argmax(model.predict(x), axis=-1)`,   if your model does multi-class classification   (e.g. if it uses a `softmax` last-layer activation).* `(model.predict(x) > 0.5).astype(\"int32\")`,   if your model does binary classification   (e.g. if it uses a `sigmoid` last-layer activation).\n",
            "  warnings.warn('`model.predict_classes()` is deprecated and '\n"
          ],
          "name": "stderr"
        }
      ]
    },
    {
      "cell_type": "markdown",
      "metadata": {
        "id": "auAQm0WBzmcA"
      },
      "source": [
        "Sieci neuronowe dla surowych danych zmieszanych"
      ]
    },
    {
      "cell_type": "code",
      "metadata": {
        "colab": {
          "base_uri": "https://localhost:8080/"
        },
        "id": "d1pLQHFFzp-5",
        "outputId": "db4c7388-5af5-43c0-c68f-a78319dc588f"
      },
      "source": [
        "model=KerasClassifier(create_model)\n",
        "batch_size = [5,10, 20]\n",
        "epochs = [1,5,10,15]\n",
        "\n",
        "param_grid = dict(batch_size=batch_size, epochs=epochs)\n",
        "nn_model_shuffle = GridSearchCV(estimator=model, param_grid=param_grid, n_jobs=-1, cv=3)\n",
        "\n",
        "nn_model_shuffle.fit(permute_train_raw_data_short,encoded_train_labels_short)\n"
      ],
      "execution_count": null,
      "outputs": [
        {
          "output_type": "stream",
          "text": [
            "Epoch 1/10\n",
            "30/30 [==============================] - 1s 4ms/step - loss: 223.5914 - accuracy: 0.0667\n",
            "Epoch 2/10\n",
            "30/30 [==============================] - 0s 4ms/step - loss: 44.1943 - accuracy: 0.2231\n",
            "Epoch 3/10\n",
            "30/30 [==============================] - 0s 5ms/step - loss: 26.2011 - accuracy: 0.3402\n",
            "Epoch 4/10\n",
            "30/30 [==============================] - 0s 5ms/step - loss: 18.0330 - accuracy: 0.4727\n",
            "Epoch 5/10\n",
            "30/30 [==============================] - 0s 4ms/step - loss: 10.5949 - accuracy: 0.5571\n",
            "Epoch 6/10\n",
            "30/30 [==============================] - 0s 4ms/step - loss: 7.6003 - accuracy: 0.6296\n",
            "Epoch 7/10\n",
            "30/30 [==============================] - 0s 4ms/step - loss: 6.0165 - accuracy: 0.7303\n",
            "Epoch 8/10\n",
            "30/30 [==============================] - 0s 4ms/step - loss: 4.5342 - accuracy: 0.7420\n",
            "Epoch 9/10\n",
            "30/30 [==============================] - 0s 5ms/step - loss: 4.0769 - accuracy: 0.8010\n",
            "Epoch 10/10\n",
            "30/30 [==============================] - 0s 5ms/step - loss: 4.8121 - accuracy: 0.7946\n"
          ],
          "name": "stdout"
        },
        {
          "output_type": "execute_result",
          "data": {
            "text/plain": [
              "GridSearchCV(cv=3, error_score=nan,\n",
              "             estimator=<tensorflow.python.keras.wrappers.scikit_learn.KerasClassifier object at 0x7f2f2712a050>,\n",
              "             iid='deprecated', n_jobs=-1,\n",
              "             param_grid={'batch_size': [5, 10, 20], 'epochs': [1, 5, 10, 15]},\n",
              "             pre_dispatch='2*n_jobs', refit=True, return_train_score=False,\n",
              "             scoring=None, verbose=0)"
            ]
          },
          "metadata": {
            "tags": []
          },
          "execution_count": 97
        }
      ]
    },
    {
      "cell_type": "code",
      "metadata": {
        "colab": {
          "base_uri": "https://localhost:8080/"
        },
        "id": "Ll0QkAjgztpq",
        "outputId": "480879bc-5736-403b-c449-fe678334cfbb"
      },
      "source": [
        "print(nn_model_shuffle.best_params_)\n",
        "nn_pred_shuffle = nn_model_shuffle.predict(permute_test_raw_data_short)\n",
        "\n",
        "print(\"Accuracy dla Sieci neuronowych (surowe dane zmieszane): \", accuracy_score(test_labels_short, nn_pred_shuffle))\n",
        "print(\"Confusion matrix dla Sieci neuronowych (surowe dane zmieszane): \\n\")\n",
        "print(confusion_matrix(test_labels_short, nn_pred_shuffle))\n",
        "print(\"Classification report dla Sieci neuronowych (surowe dane zmieszane): \")\n",
        "print(classification_report(test_labels_short, nn_pred_shuffle))"
      ],
      "execution_count": null,
      "outputs": [
        {
          "output_type": "stream",
          "text": [
            "{'batch_size': 20, 'epochs': 10}\n",
            "Accuracy dla Sieci neuronowych (surowe dane zmieszane):  0.1075\n",
            "Confusion matrix dla Sieci neuronowych (surowe dane zmieszane): \n",
            "\n",
            "[[ 6  5  2  7  0  4  2  2  0  4]\n",
            " [11  9  3  7  2  7  2  2  3  7]\n",
            " [ 5  6  7 13  2  7  2  3  1  6]\n",
            " [13  3  7  7  1  5  1  0  1  7]\n",
            " [ 4  2  7  4  0  8  0  5  1 12]\n",
            " [ 9  2  4  3  3  1  1  1  1  6]\n",
            " [ 9  5  9  4  0  3  0  2  0  3]\n",
            " [ 6  5  9  9  1  4  2  3  0  3]\n",
            " [ 6  7  6  3  1  3  1  3  3  4]\n",
            " [ 8  6  2  6  0  1  0  0  0  7]]\n",
            "Classification report dla Sieci neuronowych (surowe dane zmieszane): \n",
            "              precision    recall  f1-score   support\n",
            "\n",
            "           0       0.08      0.19      0.11        32\n",
            "           1       0.18      0.17      0.17        53\n",
            "           2       0.12      0.13      0.13        52\n",
            "           3       0.11      0.16      0.13        45\n",
            "           4       0.00      0.00      0.00        43\n",
            "           5       0.02      0.03      0.03        31\n",
            "           6       0.00      0.00      0.00        35\n",
            "           7       0.14      0.07      0.10        42\n",
            "           8       0.30      0.08      0.13        37\n",
            "           9       0.12      0.23      0.16        30\n",
            "\n",
            "    accuracy                           0.11       400\n",
            "   macro avg       0.11      0.11      0.10       400\n",
            "weighted avg       0.11      0.11      0.10       400\n",
            "\n"
          ],
          "name": "stdout"
        },
        {
          "output_type": "stream",
          "text": [
            "/usr/local/lib/python3.7/dist-packages/tensorflow/python/keras/engine/sequential.py:450: UserWarning: `model.predict_classes()` is deprecated and will be removed after 2021-01-01. Please use instead:* `np.argmax(model.predict(x), axis=-1)`,   if your model does multi-class classification   (e.g. if it uses a `softmax` last-layer activation).* `(model.predict(x) > 0.5).astype(\"int32\")`,   if your model does binary classification   (e.g. if it uses a `sigmoid` last-layer activation).\n",
            "  warnings.warn('`model.predict_classes()` is deprecated and '\n"
          ],
          "name": "stderr"
        }
      ]
    },
    {
      "cell_type": "markdown",
      "metadata": {
        "id": "GbylNM0JeLLZ"
      },
      "source": [
        "Dla wszystkich klasyfikatorów wyniki po zastosowaniu deskew są lepsze, niż bez deskew. Dla danych zmieszanych dokładność jest najmniejsza."
      ]
    }
  ]
}