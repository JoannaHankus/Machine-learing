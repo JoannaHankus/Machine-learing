{
  "nbformat": 4,
  "nbformat_minor": 0,
  "metadata": {
    "colab": {
      "name": "IO_projekt_1.ipynb",
      "provenance": [],
      "collapsed_sections": []
    },
    "kernelspec": {
      "name": "python3",
      "display_name": "Python 3"
    },
    "language_info": {
      "name": "python"
    }
  },
  "cells": [
    {
      "cell_type": "markdown",
      "metadata": {
        "id": "bxkiSDzdwDIh"
      },
      "source": [
        "Importy"
      ]
    },
    {
      "cell_type": "code",
      "metadata": {
        "id": "ShUjp7FKwIYX"
      },
      "source": [
        "import numpy as np\n",
        "import pandas as pd\n",
        "import matplotlib.pyplot as plt\n",
        "\n",
        "from sklearn.svm import SVC\n",
        "\n",
        "from sklearn.metrics import confusion_matrix\n",
        "from sklearn.metrics import plot_confusion_matrix\n",
        "from sklearn.metrics import accuracy_score\n",
        "\n",
        "from sklearn.model_selection import KFold\n",
        "from sklearn.model_selection import GridSearchCV\n",
        "from sklearn.model_selection import train_test_split\n"
      ],
      "execution_count": null,
      "outputs": []
    },
    {
      "cell_type": "markdown",
      "metadata": {
        "id": "5hDBMSSr2Cr9"
      },
      "source": [
        "Wczytanie danych"
      ]
    },
    {
      "cell_type": "code",
      "metadata": {
        "id": "Mmx5Y4Eq2FgQ"
      },
      "source": [
        "data = pd.read_csv('https://archive.ics.uci.edu/ml/machine-learning-databases/acute/diagnosis.data',header=None,encoding=\"utf16\",delimiter=\"\\t\",\n",
        "                   names=[\"Temperature\",\"NauseaOccurance\",\"LumbarPain\",\"UrinePushing\",\"MicturitionPains\",\"UrethraBurning\",\n",
        "                          \"UrinaryBladderInflammation\",\"Nephritis\"])\n",
        "\n",
        "data.head()"
      ],
      "execution_count": null,
      "outputs": []
    },
    {
      "cell_type": "markdown",
      "metadata": {
        "id": "_9rv3oxqv5r_"
      },
      "source": [
        "Zastąpienie wartości typu string na integery (1 dla 'yes', 0 dla 'no') "
      ]
    },
    {
      "cell_type": "code",
      "metadata": {
        "id": "M3BUZG92wmj-"
      },
      "source": [
        "\n",
        "data = data.replace(\"yes\",1)\n",
        "data = data.replace(\"no\",0)\n",
        "data[\"Temperature\"] = data[\"Temperature\"].str.replace(\",\",\".\").astype(float)\n",
        "\n",
        "data.head()"
      ],
      "execution_count": null,
      "outputs": []
    },
    {
      "cell_type": "markdown",
      "metadata": {
        "id": "_vodCZV-i5Md"
      },
      "source": [
        "Aby prawidłowo sklasyfikować próbki musimy rozpatrzeć 4 możliowści wystepowania chorób. W tym celu zmapowaliśmy ostatnie dwie kolumny dotyczace tych chorób na cztery wartości wg wzoru `2*wartość z kolumny UrinaryBladderInflammation + wartość z kolumny Nephritis`\n",
        "\n",
        "- nie występuje żadna choroba -> 0\n",
        "-zapalenie nerek -> 1\n",
        "-zapalenie pęcherza -> 2\n",
        "-obie choroby -> 3\n",
        "\n"
      ]
    },
    {
      "cell_type": "code",
      "metadata": {
        "id": "zO-C2FQn6n2K"
      },
      "source": [
        "X_train, X_test, col_train, col_test = train_test_split(data.iloc[:,:6],data.iloc[:,-2:], test_size=0.20, random_state=42)\n",
        "\n",
        "y_train = 2*col_train.iloc[:,0] + col_train.iloc[:,1]\n",
        "y_test = 2*col_test.iloc[:,0] + col_test.iloc[:,1]\n",
        "\n",
        "clf = SVC()\n",
        "\n",
        "for C in [1.0, 100.0, 0.01]:\n",
        "  clf.set_params(C=C, kernel='linear')\n",
        "  clf.fit(X_train, y_train)\n",
        "  y_pred = clf.predict(X_test)\n",
        "  print(\"ACC [linear, C=\", C, \"] = \", accuracy_score(y_test, y_pred))\n",
        "\n",
        "\n",
        "  clf.kernel = 'rbf'\n",
        "  for gamma in ['scale', 'auto', 1.0, 10.0, 0.1]:\n",
        "    clf.set_params(C=C, kernel='rbf', gamma=gamma)\n",
        "    clf.fit(X_train, y_train)\n",
        "    y_pred = clf.predict(X_test)\n",
        "    print(\"ACC [rbf, C=\", C, \", gamma=\", gamma, \"] = \", accuracy_score(y_test, y_pred))\n",
        "\n",
        "    clf.set_params(C=C, kernel='poly')\n",
        "    clf.fit(X_train, y_train)\n",
        "    y_pred = clf.predict(X_test)\n",
        "    print(\"ACC [poly, C=\", C, \", gamma=\", gamma, \"] = \", accuracy_score(y_test, y_pred))\n"
      ],
      "execution_count": null,
      "outputs": []
    },
    {
      "cell_type": "markdown",
      "metadata": {
        "id": "zcb6Yz97xgcH"
      },
      "source": [
        "Walidacja krzyżowa dla wybranych hiperparametrów i wyliczenie przeciętnej dokładności klasyfikatora:"
      ]
    },
    {
      "cell_type": "code",
      "metadata": {
        "id": "jSQn_3P7umnO"
      },
      "source": [
        "kf = KFold(n_splits=10, shuffle=True)\n",
        "\n",
        "X_train = X_train.reset_index(drop=True)\n",
        "y_train = y_train.reset_index(drop=True)\n",
        "errors_valid = []\n",
        "\n",
        "for train_idx, valid_idx in kf.split(X_train):\n",
        "  X_t_f, X_v_f = X_train.iloc[train_idx], X_train.iloc[valid_idx]\n",
        "  y_t_f, y_v_f = y_train.iloc[train_idx], y_train.iloc[valid_idx]\n",
        "\n",
        "  \n",
        "  reg = SVC(C=100, kernel='rbf', gamma=0.1)\n",
        "  reg.fit(X_t_f, y_t_f)\n",
        "  errors_valid.append(accuracy_score(y_v_f, reg.predict(X_v_f)))\n",
        "  \n",
        "print(sum(errors_valid)/kf.n_splits) #przeciętna dokładność\n"
      ],
      "execution_count": null,
      "outputs": []
    },
    {
      "cell_type": "markdown",
      "metadata": {
        "id": "dKQlDbNCxMTs"
      },
      "source": [
        "Znalezienie optymalnych hiperparametrów na siatce:"
      ]
    },
    {
      "cell_type": "code",
      "metadata": {
        "id": "iAz2SMX4u7Uh"
      },
      "source": [
        "parameters = {'C': [0.1, 0.5 , 1.0, 5.0, 10.0], 'kernel':['linear', 'poly', 'rbf', 'sigmoid'], 'gamma':['scale', 'auto']}\n",
        "svc_reg = SVC(gamma='auto')\n",
        "gcv_reg = GridSearchCV(svc_reg, parameters, scoring='accuracy')\n",
        "gcv_reg.fit(X_train, y_train)\n",
        "print(gcv_reg.best_params_)\n",
        "\n",
        "print(\"Accuracy test:  \", accuracy_score(y_test, gcv_reg.predict(X_test)))\n",
        "print(gcv_reg.best_score_)"
      ],
      "execution_count": null,
      "outputs": []
    },
    {
      "cell_type": "markdown",
      "metadata": {
        "id": "fD4WfN3KwsSz"
      },
      "source": [
        "Wyrysowanie macierzy pomyłek dla najlpszego zestawu parametrów:"
      ]
    },
    {
      "cell_type": "code",
      "metadata": {
        "id": "GMsHO3bf-U08"
      },
      "source": [
        "clf1 = SVC(C=0.1, kernel='poly', gamma='auto')\n",
        "clf1.fit(X_train, y_train)\n",
        "y_pred1 = clf1.predict(X_test)\n",
        "target = 2*data.iloc[:,-2] + data.iloc[:,-1]\n",
        "confusion_matrix(y_test, y_pred1) \n",
        "plot_confusion_matrix(clf1,X_test,y_test)"
      ],
      "execution_count": null,
      "outputs": []
    }
  ]
}